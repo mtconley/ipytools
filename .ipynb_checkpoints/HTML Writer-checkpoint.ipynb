{
 "cells": [
  {
   "cell_type": "code",
   "execution_count": 1,
   "metadata": {
    "collapsed": false
   },
   "outputs": [],
   "source": [
    "import clients\n",
    "from IPython.display import HTML"
   ]
  },
  {
   "cell_type": "code",
   "execution_count": 2,
   "metadata": {
    "collapsed": false
   },
   "outputs": [],
   "source": [
    "Formatter = clients.writers.HTMLWriter_01\n",
    "HTMLWriter = clients.apiclients.JiraHTMLMediator('REL-3021', Formatter)"
   ]
  },
  {
   "cell_type": "code",
   "execution_count": 3,
   "metadata": {
    "collapsed": false
   },
   "outputs": [
    {
     "data": {
      "text/html": [
       "<div id='HTMLStyle_Container'><span ><b ><div id='JIRA_REL-3021' style='display:inline-block; float:left;'><a href='https://issues.teslamotors.com/browse/REL-3021' style='color:#CC0000;font-weight:bold;'><font size='5em'>JIRA REL-3021</font></a></div><div id='Summary'><font size='4em'>&mdash;Car Log Mining - Differential Failure</font><a class='anchor-link' href='#Car Log Mining - Differential Failure' style='color:#CC0000;font-weight:bold;'>&#182;</a></div></b></span><br><code >Prepared on: 2015-07-24</code><br><span >&nbsp;&nbsp;&nbsp;&nbsp;</span><code >requestor: <a href='cc=jyoung@teslamotors.com,jyoung@teslamotors.com,jyoung@teslamotors.com,mconley@teslamotors.com,JShiverick@teslamotors.com&email=jira-reldata@teslamotors.com&subject=RE:%20RE:%20REL-3021' style='color:#CC0000;font-weight:bold;' target='_top'>Jamie Young</a></code><br><span >&nbsp;&nbsp;&nbsp;&nbsp;</span><code >creator: <a href='cc=jyoung@teslamotors.com,jyoung@teslamotors.com,jyoung@teslamotors.com,mconley@teslamotors.com,JShiverick@teslamotors.com&email=jira-reldata@teslamotors.com&subject=RE:%20RE:%20REL-3021' style='color:#CC0000;font-weight:bold;' target='_top'>Jamie Young</a></code><br><span >&nbsp;&nbsp;&nbsp;&nbsp;</span><code >reporter: <a href='cc=jyoung@teslamotors.com,jyoung@teslamotors.com,jyoung@teslamotors.com,mconley@teslamotors.com,JShiverick@teslamotors.com&email=jira-reldata@teslamotors.com&subject=RE:%20RE:%20REL-3021' style='color:#CC0000;font-weight:bold;' target='_top'>Jamie Young</a></code><br><span >&nbsp;&nbsp;&nbsp;&nbsp;</span><code >assignee: <a href='cc=JShiverick@teslamotors.com,jyoung@teslamotors.com,mconley@teslamotors.com,jyoung@teslamotors.com,jyoung@teslamotors.com&email=jira-reldata@teslamotors.com&subject=RE:%20RE:%20REL-3021' style='color:#CC0000;font-weight:bold;' target='_top'>Jason Shiverick</a></code><br><span >&nbsp;&nbsp;&nbsp;&nbsp;</span><code >preparer: <a href='cc=mconley@teslamotors.com,jyoung@teslamotors.com,jyoung@teslamotors.com,JShiverick@teslamotors.com,jyoung@teslamotors.com&email=jira-reldata@teslamotors.com&subject=RE:%20RE:%20REL-3021' style='color:#CC0000;font-weight:bold;' target='_top'>Matthew Conley</a></code><br><h3 >Description</h3><p >from <a href='mailto:algreen@teslamotors.com?subject=[JIRA] REL-3021' \n",
       "        target='_top' style='color:#cc0000; font-weight:bold;'>\n",
       "        Alex Green </a>:<br><br>If I provide you with a  list of 30-35 VINs that have been confirmed differential failure, would someone on the reliability team be able to pull the 10 secs of driving prior to the first motor mismatch failure and back out the torque, speed, and pedal monitor position?<br><br>Also, do either of you know of any sensors on the car that can allude to vertical acceleration? That would be helpful to know if there is an association with potholes, speed bumps, etc. I took a quick look at the tire pressure signal but it looks to be sampled at a very low frequency.</p><h3 >Attachments</h3><a href='https://issues.teslamotors.com/secure/attachment/207164/Confirmed+Differential+Failures.xlsx' style='color:#CC0000;font-weight:bold;'>Confirmed Differential Failures.xlsx</a><br><a href='https://issues.teslamotors.com/secure/attachment/210948/REL3021.zip' style='color:#CC0000;font-weight:bold;'>REL3021.zip</a><br></div>"
      ],
      "text/plain": [
       "<IPython.core.display.HTML object>"
      ]
     },
     "execution_count": 3,
     "metadata": {},
     "output_type": "execute_result"
    }
   ],
   "source": [
    "HTML(HTMLWriter.build_html())"
   ]
  }
 ],
 "metadata": {
  "kernelspec": {
   "display_name": "Python 2",
   "language": "python",
   "name": "python2"
  },
  "language_info": {
   "codemirror_mode": {
    "name": "ipython",
    "version": 2
   },
   "file_extension": ".py",
   "mimetype": "text/x-python",
   "name": "python",
   "nbconvert_exporter": "python",
   "pygments_lexer": "ipython2",
   "version": "2.7.10"
  }
 },
 "nbformat": 4,
 "nbformat_minor": 0
}
